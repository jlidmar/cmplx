{
  "nbformat": 4,
  "nbformat_minor": 0,
  "metadata": {
    "language_info": {
      "name": "python",
      "codemirror_mode": {
        "name": "ipython",
        "version": 3
      },
      "version": "3.7.6-final"
    },
    "orig_nbformat": 2,
    "file_extension": ".py",
    "mimetype": "text/x-python",
    "name": "python",
    "npconvert_exporter": "python",
    "pygments_lexer": "ipython3",
    "version": 3,
    "kernelspec": {
      "name": "python3",
      "display_name": "Python 3"
    },
    "colab": {
      "name": "logistic-map.ipynb",
      "provenance": [],
      "include_colab_link": true
    }
  },
  "cells": [
    {
      "cell_type": "markdown",
      "metadata": {
        "id": "view-in-github",
        "colab_type": "text"
      },
      "source": [
        "<a href=\"https://colab.research.google.com/github/jlidmar/cmplx/blob/master/cobweb.ipynb\" target=\"_parent\"><img src=\"https://colab.research.google.com/assets/colab-badge.svg\" alt=\"Open In Colab\"/></a>"
      ]
    },
    {
      "cell_type": "markdown",
      "metadata": {
        "id": "yKVb1fGXuHZA",
        "colab_type": "text"
      },
      "source": [
        "## Cobweb: Logistic map "
      ]
    },
    {
      "cell_type": "code",
      "metadata": {
        "id": "IYwSs74huHZB",
        "colab_type": "code",
        "colab": {}
      },
      "source": [
        "\n",
        "import numpy as np\n",
        "from matplotlib import pyplot as plt"
      ],
      "execution_count": 0,
      "outputs": []
    },
    {
      "cell_type": "code",
      "metadata": {
        "id": "jLZrKonduHZF",
        "colab_type": "code",
        "colab": {}
      },
      "source": [
        "def f(x,r):\n",
        "  \"Logistic map\"\n",
        "  return r*x*(1-x)"
      ],
      "execution_count": 0,
      "outputs": []
    },
    {
      "cell_type": "code",
      "metadata": {
        "id": "B1_eainBuHZI",
        "colab_type": "code",
        "colab": {}
      },
      "source": [
        "\n",
        "r = 2.7\n",
        "# r = 3.05\n",
        "# r = 3.45\n",
        "# r = 3.5\n",
        "# r = 3.7\n",
        "# r = 3.84\n",
        "\n",
        "# x = np.random.uniform()\n",
        "\n",
        "x = 0.14\n",
        "y = 0\n",
        "\n",
        "N = 1000\n",
        "\n",
        "xx = np.zeros(2*N)\n",
        "yy = np.zeros(2*N)\n",
        "\n",
        "k = 0\n",
        "\n",
        "for n in range(N):\n",
        "  xx[k] = x\n",
        "  yy[k] = y\n",
        "  k = k + 1\n",
        "  y = f(x,r)\n",
        "  xx[k] = x\n",
        "  yy[k] = y\n",
        "  k = k + 1\n",
        "  x = y\n",
        "\n",
        "xxx = np.arange(0,1,0.005)\n",
        "yyy = f(xxx,r)\n",
        "\n",
        "plt.plot(xxx,yyy, 'k',[0, 1], [0, 1], 'k', xx,yy, 'r')\n",
        "# plt.axis([0.4,0.9,0.4,0.9])"
      ],
      "execution_count": 0,
      "outputs": []
    },
    {
      "cell_type": "code",
      "metadata": {
        "id": "haXfr7bz0hIF",
        "colab_type": "code",
        "colab": {}
      },
      "source": [
        ""
      ],
      "execution_count": 0,
      "outputs": []
    }
  ]
}
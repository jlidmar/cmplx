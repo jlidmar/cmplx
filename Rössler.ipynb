{
  "nbformat": 4,
  "nbformat_minor": 0,
  "metadata": {
    "kernelspec": {
      "display_name": "Python 3",
      "language": "python",
      "name": "python3"
    },
    "language_info": {
      "codemirror_mode": {
        "name": "ipython",
        "version": 3
      },
      "file_extension": ".py",
      "mimetype": "text/x-python",
      "name": "python",
      "nbconvert_exporter": "python",
      "pygments_lexer": "ipython3",
      "version": "3.7.4"
    },
    "colab": {
      "name": "Rössler.ipynb",
      "provenance": [],
      "collapsed_sections": [
        "iyQ1siqL8Hix",
        "5frAz_DY7gnH"
      ],
      "include_colab_link": true
    }
  },
  "cells": [
    {
      "cell_type": "markdown",
      "metadata": {
        "id": "view-in-github",
        "colab_type": "text"
      },
      "source": [
        "<a href=\"https://colab.research.google.com/github/jlidmar/cmplx/blob/master/R%C3%B6ssler.ipynb\" target=\"_parent\"><img src=\"https://colab.research.google.com/assets/colab-badge.svg\" alt=\"Open In Colab\"/></a>"
      ]
    },
    {
      "cell_type": "markdown",
      "metadata": {
        "id": "55EtYnmVtiLR",
        "colab_type": "text"
      },
      "source": [
        "# Rössler system:\n",
        " \n",
        "\\begin{align}\n",
        "    \\frac{dx}{dt} &= - y - z \\\\\n",
        "    \\frac{dy}{dt} &= x + a y \\\\\n",
        "    \\frac{dz}{dt} &= b - c z + xz\n",
        "\\end{align}\n"
      ]
    },
    {
      "cell_type": "code",
      "metadata": {
        "id": "IuVnJ1b8tiLS",
        "colab_type": "code",
        "colab": {}
      },
      "source": [
        "from numpy import *\n",
        "from scipy import integrate\n",
        "from matplotlib import pyplot as plt"
      ],
      "execution_count": 0,
      "outputs": []
    },
    {
      "cell_type": "code",
      "metadata": {
        "id": "3WQVwNPWtiLW",
        "colab_type": "code",
        "cellView": "both",
        "colab": {}
      },
      "source": [
        "#@title Enter a value for c:\n",
        "\n",
        "a, b, c = 0.2, 0.2, 4.16\n",
        "\n",
        "c = 5.7 #@param [\"3\", \"3.9\", \"4\", \"4.11\", \"4.16\", \"5.7\"] {type:\"raw\", allow-input: true}\n",
        "\n",
        "\n",
        "\n",
        "def Roessler(t,x):\n",
        "    \"Roessler system of equations\"\n",
        "    return [ -x[1]-x[2], x[0]+a*x[1], b-c*x[2]+x[0]*x[2]]"
      ],
      "execution_count": 0,
      "outputs": []
    },
    {
      "cell_type": "markdown",
      "metadata": {
        "id": "OtKJeKsAtiLa",
        "colab_type": "text"
      },
      "source": [
        "### Calculate Poincaré map numerically:"
      ]
    },
    {
      "cell_type": "code",
      "metadata": {
        "id": "glxj8uKvxNTd",
        "colab_type": "code",
        "cellView": "both",
        "colab": {}
      },
      "source": [
        "def poincare_section(t,x):\n",
        "  return x[1]\n",
        "\n",
        "poincare_section.direction = +1.0"
      ],
      "execution_count": 0,
      "outputs": []
    },
    {
      "cell_type": "code",
      "metadata": {
        "id": "3ngErLhOtiLa",
        "colab_type": "code",
        "colab": {}
      },
      "source": [
        "t = [0.0, 1000.0];\n",
        "\n",
        "x = array([1, 1, 1])\n",
        "\n",
        "sol = integrate.solve_ivp(Roessler,t,x,dense_output=True,rtol=0.00001, events=poincare_section)\n"
      ],
      "execution_count": 0,
      "outputs": []
    },
    {
      "cell_type": "code",
      "metadata": {
        "id": "qFcqQckmtiLe",
        "colab_type": "code",
        "colab": {}
      },
      "source": [
        "ts = sol.t\n",
        "xs = sol.y\n",
        "\n",
        "plt.plot(ts[0:400],xs.transpose()[0:400]);\n",
        "plt.figure()\n",
        "plt.plot(xs[0],xs[2])\n",
        "plt.figure()\n",
        "plt.plot(xs[0],xs[1])\n",
        "\n",
        "from mpl_toolkits.mplot3d import Axes3D\n",
        "\n",
        "ax = plt.figure().gca(projection='3d')\n",
        "# plt.plot(xs[0], xs[1], xs[2]);\n",
        "plt.plot(*xs);"
      ],
      "execution_count": 0,
      "outputs": []
    },
    {
      "cell_type": "markdown",
      "metadata": {
        "id": "iyQ1siqL8Hix",
        "colab_type": "text"
      },
      "source": [
        "## Plot a limit cycle\n",
        "\n",
        "... skipping the initial transient"
      ]
    },
    {
      "cell_type": "code",
      "metadata": {
        "id": "ERFCj0PKv1_A",
        "colab_type": "code",
        "colab": {}
      },
      "source": [
        "skip = 400\n",
        "\n",
        "plt.plot(xs[0,skip:],xs[1,skip:]);\n",
        "plt.xlabel(\"x\")\n",
        "plt.ylabel(\"y\")\n",
        "plt.title(\"Limit cycle\");"
      ],
      "execution_count": 0,
      "outputs": []
    },
    {
      "cell_type": "markdown",
      "metadata": {
        "id": "5frAz_DY7gnH",
        "colab_type": "text"
      },
      "source": [
        "## Plot the Poincaré map in the xz-plane:"
      ]
    },
    {
      "cell_type": "code",
      "metadata": {
        "id": "KsE5pI7XybfY",
        "colab_type": "code",
        "cellView": "both",
        "colab": {}
      },
      "source": [
        "skip = 50 # skip the initial transient\n",
        "\n",
        "Poincare_map_x = sol.y_events[0][:,0]\n",
        "Poincare_map_z = sol.y_events[0][:,2]\n",
        "\n",
        "plt.plot(Poincare_map_x[skip:], Poincare_map_z[skip:],'.');\n",
        "plt.axis([0,8,0,8]); # Zoom in on the periodic orbit...\n",
        "plt.xlabel(\"x\")\n",
        "plt.ylabel(\"z\")\n",
        "plt.title(\"Poincaré map for c = \" + str(c));"
      ],
      "execution_count": 0,
      "outputs": []
    },
    {
      "cell_type": "code",
      "metadata": {
        "id": "gxBrJYymdf1K",
        "colab_type": "code",
        "colab": {}
      },
      "source": [
        "import plotly.graph_objects as go"
      ],
      "execution_count": 0,
      "outputs": []
    },
    {
      "cell_type": "code",
      "metadata": {
        "id": "Qee4Sy3-diuk",
        "colab_type": "code",
        "colab": {}
      },
      "source": [
        "\n",
        "fig = go.Figure(data = [ go.Scatter3d( x = xs[0], y = xs[1], z = xs[2], opacity=0.8, mode=\"lines\") ],\n",
        "                layout = { 'scene.aspectmode': 'cube' })\n",
        "\n",
        "fig.show()"
      ],
      "execution_count": 0,
      "outputs": []
    }
  ]
}

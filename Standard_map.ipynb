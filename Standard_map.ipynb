{
  "nbformat": 4,
  "nbformat_minor": 0,
  "metadata": {
    "language_info": {
      "name": "python",
      "codemirror_mode": {
        "name": "ipython",
        "version": 3
      },
      "version": "3.7.6-final"
    },
    "orig_nbformat": 2,
    "file_extension": ".py",
    "mimetype": "text/x-python",
    "name": "python",
    "npconvert_exporter": "python",
    "pygments_lexer": "ipython3",
    "version": 3,
    "kernelspec": {
      "name": "python3",
      "display_name": "Python 3"
    },
    "colab": {
      "name": "Standard map.ipynb",
      "provenance": [],
      "collapsed_sections": [],
      "include_colab_link": true
    }
  },
  "cells": [
    {
      "cell_type": "markdown",
      "metadata": {
        "id": "view-in-github",
        "colab_type": "text"
      },
      "source": [
        "<a href=\"https://colab.research.google.com/github/jlidmar/cmplx/blob/master/Standard_map.ipynb\" target=\"_parent\"><img src=\"https://colab.research.google.com/assets/colab-badge.svg\" alt=\"Open In Colab\"/></a>"
      ]
    },
    {
      "cell_type": "markdown",
      "metadata": {
        "id": "yKVb1fGXuHZA"
      },
      "source": [
        "## The Chirikov standard map\n",
        "\n",
        "$$\n",
        "\\begin{align}\n",
        "p_{n+1} &= p_n + K \\sin \\theta_n & (\\mod 2\\pi)\n",
        "\\\\\n",
        "\\theta_{n+1} &= \\theta_n + p_{n+1} & (\\mod 2\\pi)\n",
        "\\end{align}\n",
        "$$"
      ]
    },
    {
      "cell_type": "code",
      "metadata": {
        "id": "IYwSs74huHZB"
      },
      "source": [
        "import numpy as np\n",
        "from matplotlib import pyplot as plt"
      ],
      "execution_count": null,
      "outputs": []
    },
    {
      "cell_type": "code",
      "metadata": {
        "id": "jLZrKonduHZF"
      },
      "source": [
        "K = 1.3283\n",
        "\n",
        "def f(x,):\n",
        "  \"Standard map\"\n",
        "  p = x[0] + K*np.sin(x[1]);\n",
        "  v = x[1] + p;\n",
        "  return [ np.mod(p+np.pi,2*np.pi)-np.pi, np.mod(v,2*np.pi) ];\n"
      ],
      "execution_count": null,
      "outputs": []
    },
    {
      "cell_type": "markdown",
      "metadata": {
        "id": "XM3i9ztAcBk2"
      },
      "source": [
        "## Plot the attractor:"
      ]
    },
    {
      "cell_type": "code",
      "metadata": {
        "id": "B1_eainBuHZI"
      },
      "source": [
        "K = 0.68 #@param {type:\"slider\", min:0, max:12.6, step:0.01}\n",
        "\n",
        "R = 100;\n",
        "N = 1000\n",
        "\n",
        "xs = np.zeros((2,N*R))\n",
        "\n",
        "nn = 0;\n",
        "for it in range(R):\n",
        "  x = np.random.uniform(0,2*np.pi,2)\n",
        "\n",
        "  Nskip = 10\n",
        "\n",
        "  # Skip the initial transient\n",
        "  for n in range(Nskip):\n",
        "    x = f(x)\n",
        "\n",
        "  for n in range(N):\n",
        "    x = f(x)\n",
        "    xs[:,nn] = x\n",
        "    nn = nn + 1;\n",
        "\n",
        "col = np.linspace(0,R,R*N);\n",
        "\n",
        "plt.scatter(xs[0,:], xs[1,:],s=1,c=col);\n",
        "plt.title(\"Standard map\");\n"
      ],
      "execution_count": null,
      "outputs": []
    }
  ]
}
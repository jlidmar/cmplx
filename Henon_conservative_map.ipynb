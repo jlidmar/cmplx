{
  "nbformat": 4,
  "nbformat_minor": 0,
  "metadata": {
    "language_info": {
      "name": "python",
      "codemirror_mode": {
        "name": "ipython",
        "version": 3
      },
      "version": "3.7.6-final"
    },
    "orig_nbformat": 2,
    "file_extension": ".py",
    "mimetype": "text/x-python",
    "name": "python",
    "npconvert_exporter": "python",
    "pygments_lexer": "ipython3",
    "version": 3,
    "kernelspec": {
      "name": "python3",
      "display_name": "Python 3"
    },
    "colab": {
      "name": "Henon conservative map.ipynb",
      "provenance": [],
      "collapsed_sections": [],
      "include_colab_link": true
    }
  },
  "cells": [
    {
      "cell_type": "markdown",
      "metadata": {
        "id": "view-in-github",
        "colab_type": "text"
      },
      "source": [
        "<a href=\"https://colab.research.google.com/github/jlidmar/cmplx/blob/master/Henon_conservative_map.ipynb\" target=\"_parent\"><img src=\"https://colab.research.google.com/assets/colab-badge.svg\" alt=\"Open In Colab\"/></a>"
      ]
    },
    {
      "cell_type": "markdown",
      "metadata": {
        "id": "yKVb1fGXuHZA"
      },
      "source": [
        "## Hénon conservative map\n",
        "\n",
        "$$\n",
        "x_{n+1} = A x_n - B (y_n - x_n^2)\n",
        "\\\\\n",
        "y_{n+1} = B x_n + A (y_n - x_n^2)\n",
        "\\\\\n",
        "A^2 + B^2 = 1, \\; A = \\cos \\alpha,  \\; B = \\sin \\alpha\n",
        "$$"
      ]
    },
    {
      "cell_type": "code",
      "metadata": {
        "id": "IYwSs74huHZB"
      },
      "source": [
        "import numpy as np\n",
        "from matplotlib import pyplot as plt"
      ],
      "execution_count": null,
      "outputs": []
    },
    {
      "cell_type": "code",
      "metadata": {
        "id": "jLZrKonduHZF"
      },
      "source": [
        "alpha = 1.3283\n",
        "# alpha = 2.85\n",
        "A = np.cos(alpha);\n",
        "B = np.sin(alpha);\n",
        "\n",
        "def f(x,):\n",
        "  \"Hénon conservative map\"\n",
        "  return [ A*x[0] - B*(x[1] - x[0]**2), B*x[0] + A*(x[1] - x[0]**2) ]\n"
      ],
      "execution_count": null,
      "outputs": []
    },
    {
      "cell_type": "markdown",
      "metadata": {
        "id": "XM3i9ztAcBk2"
      },
      "source": [
        "## Plot the attractor:"
      ]
    },
    {
      "cell_type": "code",
      "metadata": {
        "id": "B1_eainBuHZI",
        "cellView": "both"
      },
      "source": [
        "x = np.array([1, 2])\n",
        "\n",
        "R = 100;\n",
        "N = 1000\n",
        "\n",
        "xs = np.zeros((2,N*R))\n",
        "\n",
        "nn = 0;\n",
        "for it in range(R):\n",
        "  x = np.random.uniform(-0.4,+0.4,2)\n",
        "\n",
        "  Nskip = 1\n",
        "\n",
        "  # Skip the initial transient\n",
        "  for n in range(Nskip):\n",
        "    x = f(x)\n",
        "\n",
        "  for n in range(N):\n",
        "    x = f(x)\n",
        "    xs[:,nn] = x\n",
        "    nn = nn + 1;\n",
        "\n",
        "col = np.linspace(0,R,R*N);\n",
        "\n",
        "plt.scatter(xs[0,:], xs[1,:],s=1,c=col);\n",
        "\n",
        "plt.figure();\n",
        "plt.scatter(xs[0,:], xs[1,:],s=0.01,c=col);\n",
        "plt.axis([-0.2,0.2,-0.2,0.2])\n",
        "plt.title(\"Zooming in\");\n",
        "\n",
        "plt.figure();\n",
        "plt.scatter(xs[0,:], xs[1,:],s=1,c=col);\n",
        "plt.axis([-0.4,-0.3,0.3,0.4])\n",
        "plt.title(\"Zooming in\");\n"
      ],
      "execution_count": null,
      "outputs": []
    }
  ]
}
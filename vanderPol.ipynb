{
 "cells": [
  {
   "cell_type": "markdown",
   "metadata": {},
   "source": [
    "## van der Pol equation:\n",
    " \n",
    "\\begin{align}\n",
    "    \\frac{dx}{dt} &= y \\\\\n",
    "    \\frac{dy}{dt} &= -x -\\kappa (x^2 - 1) y \n",
    "\\end{align}\n"
   ]
  },
  {
   "cell_type": "code",
   "execution_count": null,
   "metadata": {},
   "outputs": [],
   "source": [
    "from numpy import *\n",
    "from scipy import integrate\n",
    "from matplotlib import pyplot as plt"
   ]
  },
  {
   "cell_type": "code",
   "execution_count": null,
   "metadata": {},
   "outputs": [],
   "source": [
    "kappa = 1\n",
    "\n",
    "def vdp(t,x):\n",
    "    \"van der Pol system of equations\"\n",
    "    return [x[1], -x[0] - kappa*(x[0]*x[0] - 1)*x[1]]"
   ]
  },
  {
   "cell_type": "markdown",
   "metadata": {},
   "source": [
    "Next"
   ]
  },
  {
   "cell_type": "code",
   "execution_count": null,
   "metadata": {},
   "outputs": [],
   "source": [
    "tfin = 10000\n",
    "t = [0.0, 100.0];\n",
    "\n",
    "x = array([1, 1])\n",
    "u = (random.randn(), random.randn())\n",
    "\n",
    "sol = integrate.solve_ivp(vdp,t,x,dense_output=True,rtol=0.00001)\n"
   ]
  },
  {
   "cell_type": "code",
   "execution_count": null,
   "metadata": {},
   "outputs": [],
   "source": [
    "ts = sol.t\n",
    "xs = sol.y\n",
    "\n",
    "plt.plot(ts,xs.transpose());\n",
    "\n",
    "plt.figure()\n",
    "plt.plot(xs[0],xs[1])\n",
    "\n",
    "from mpl_toolkits.mplot3d import Axes3D\n",
    "\n",
    "ax = plt.figure().gca(projection='3d')\n",
    "# plt.plot(xs[0], xs[1], xs[2]);\n",
    "plt.plot(*xs);"
   ]
  },
  {
   "cell_type": "code",
   "execution_count": null,
   "metadata": {},
   "outputs": [],
   "source": []
  },
  {
   "cell_type": "code",
   "execution_count": null,
   "metadata": {},
   "outputs": [],
   "source": []
  }
 ],
 "metadata": {
  "kernelspec": {
   "display_name": "Python 3",
   "language": "python",
   "name": "python3"
  },
  "language_info": {
   "codemirror_mode": {
    "name": "ipython",
    "version": 3
   },
   "file_extension": ".py",
   "mimetype": "text/x-python",
   "name": "python",
   "nbconvert_exporter": "python",
   "pygments_lexer": "ipython3",
   "version": "3.7.4"
  }
 },
 "nbformat": 4,
 "nbformat_minor": 4
}

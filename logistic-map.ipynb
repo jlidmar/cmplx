{
 "nbformat": 4,
 "nbformat_minor": 2,
 "metadata": {
  "language_info": {
   "name": "python",
   "codemirror_mode": {
    "name": "ipython",
    "version": 3
   },
   "version": "3.7.6-final"
  },
  "orig_nbformat": 2,
  "file_extension": ".py",
  "mimetype": "text/x-python",
  "name": "python",
  "npconvert_exporter": "python",
  "pygments_lexer": "ipython3",
  "version": 3,
  "kernelspec": {
   "name": "python3",
   "display_name": "Python 3"
  }
 },
 "cells": [
  {
   "cell_type": "markdown",
   "metadata": {},
   "source": [
    "## Logistic map example"
   ],
   "execution_count": null,
   "outputs": []
  },
  {
   "cell_type": "code",
   "execution_count": null,
   "metadata": {},
   "outputs": [],
   "source": [
    "\n",
    "import numpy as np\n",
    "from matplotlib import pyplot as plt\n",
    "# from numba import jit, njit"
   ]
  },
  {
   "cell_type": "code",
   "execution_count": null,
   "metadata": {},
   "outputs": [],
   "source": [
    "# @njit\n",
    "def f(x,r):\n",
    "  \"Logistic map\"\n",
    "  return r*x*(1-x)"
   ]
  },
  {
   "cell_type": "code",
   "execution_count": null,
   "metadata": {},
   "outputs": [],
   "source": [
    "N = 300\n",
    "Ndisc = 300\n",
    "Nr = 200\n",
    "ts = np.arange(N)\n",
    "rs = np.linspace(2.5,4,Nr,endpoint=False)\n",
    "xs = np.zeros((N,Nr))\n",
    "\n",
    "rr = 0\n",
    "for r in rs:\n",
    "\n",
    "  x = 0.8\n",
    "\n",
    "  for t in range(Ndisc) :\n",
    "    x = f(x,r)\n",
    "\n",
    "  for t in ts:\n",
    "    x = f(x,r)\n",
    "    xs[t,rr] = x\n",
    "\n",
    "  rr += 1\n",
    ""
   ]
  },
  {
   "cell_type": "code",
   "execution_count": null,
   "metadata": {},
   "outputs": [],
   "source": [
    "plt.scatter(np.outer(np.ones(ts.shape),rs),xs,color=\"black\");"
   ]
  },
  {
   "cell_type": "code",
   "execution_count": null,
   "metadata": {},
   "outputs": [],
   "source": []
  }
 ]
}
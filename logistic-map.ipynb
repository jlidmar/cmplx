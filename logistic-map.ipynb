{
  "nbformat": 4,
  "nbformat_minor": 0,
  "metadata": {
    "language_info": {
      "name": "python",
      "codemirror_mode": {
        "name": "ipython",
        "version": 3
      },
      "version": "3.7.6-final"
    },
    "orig_nbformat": 2,
    "file_extension": ".py",
    "mimetype": "text/x-python",
    "name": "python",
    "npconvert_exporter": "python",
    "pygments_lexer": "ipython3",
    "version": 3,
    "kernelspec": {
      "name": "python3",
      "display_name": "Python 3"
    },
    "colab": {
      "name": "logistic-map.ipynb",
      "provenance": [],
      "collapsed_sections": [],
      "include_colab_link": true
    }
  },
  "cells": [
    {
      "cell_type": "markdown",
      "metadata": {
        "id": "view-in-github",
        "colab_type": "text"
      },
      "source": [
        "<a href=\"https://colab.research.google.com/github/jlidmar/cmplx/blob/master/logistic-map.ipynb\" target=\"_parent\"><img src=\"https://colab.research.google.com/assets/colab-badge.svg\" alt=\"Open In Colab\"/></a>"
      ]
    },
    {
      "cell_type": "markdown",
      "metadata": {
        "id": "yKVb1fGXuHZA",
        "colab_type": "text"
      },
      "source": [
        "## Logistic map\n",
        "\n",
        "$$\n",
        "x_{n+1} = r x_n (1 - x_n)\n",
        "$$"
      ]
    },
    {
      "cell_type": "code",
      "metadata": {
        "id": "IYwSs74huHZB",
        "colab_type": "code",
        "colab": {}
      },
      "source": [
        "\n",
        "import numpy as np\n",
        "from matplotlib import pyplot as plt"
      ],
      "execution_count": 0,
      "outputs": []
    },
    {
      "cell_type": "code",
      "metadata": {
        "id": "jLZrKonduHZF",
        "colab_type": "code",
        "colab": {}
      },
      "source": [
        "def f(x,r):\n",
        "  \"Logistic map\"\n",
        "  return r*x*(1-x)\n",
        "\n",
        "def f2(x,r):\n",
        "  \"Iterated twice\"\n",
        "  return fl(fl(x,r),r)\n",
        "\n",
        "def f3(x,r):\n",
        "  \"Iterated thrice\"\n",
        "  return fl(f2(x,r),r)"
      ],
      "execution_count": 0,
      "outputs": []
    },
    {
      "cell_type": "markdown",
      "metadata": {
        "id": "BCamz4y-bBJa",
        "colab_type": "text"
      },
      "source": [
        "Cobweb"
      ]
    },
    {
      "cell_type": "code",
      "metadata": {
        "id": "B1_eainBuHZI",
        "colab_type": "code",
        "cellView": "both",
        "colab": {}
      },
      "source": [
        "# r = 3.84\n",
        "# x = 0.14\n",
        "\n",
        "x = 0.14 #@param {type:\"slider\", min:0, max:1, step:0.01}\n",
        "\n",
        "r = 2.8 #@param [\"2.8\", \"3.05\", \"3.3\", \"3.5\", \"3.56\", \"3.569946\", \"3.84\", \"3.9\"] {type:\"raw\", allow-input: true}\n",
        "\n",
        "# x = np.random.uniform()\n",
        "\n",
        "y = 0\n",
        "\n",
        "N = 500\n",
        "\n",
        "xx = np.zeros(2*N)\n",
        "yy = np.zeros(2*N)\n",
        "\n",
        "k = 0\n",
        "\n",
        "for n in range(N):\n",
        "  xx[k] = x\n",
        "  yy[k] = y\n",
        "  k = k + 1\n",
        "  y = f(x,r)\n",
        "  xx[k] = x\n",
        "  yy[k] = y\n",
        "  k = k + 1\n",
        "  x = y\n",
        "\n",
        "xxx = np.arange(0,1,0.005)\n",
        "yyy = f(xxx,r)\n",
        "\n",
        "plt.plot(range(0,100), xx[1:200:2]);\n",
        "plt.figure()\n",
        "plt.plot (xxx,yyy, 'k',[0, 1], [0, 1], 'k', xx,yy, 'r');\n",
        "\n",
        "# Plot a zoom in\n",
        "plt.figure();\n",
        "xmin = xx[N-100] - 0.2\n",
        "xmax = xmin + 0.4\n",
        "plt.plot(xxx,yyy, 'k',[0, 1], [0, 1], 'k', xx,yy, 'r');\n",
        "plt.axis([xmin,xmax,xmin,xmax]);"
      ],
      "execution_count": 0,
      "outputs": []
    },
    {
      "cell_type": "markdown",
      "metadata": {
        "id": "ED3afQrkcHpa",
        "colab_type": "text"
      },
      "source": [
        "## Bifurcation diagram\n",
        "\n",
        "Limit points $x_\\infty$ of the map vs $r$"
      ]
    },
    {
      "cell_type": "code",
      "metadata": {
        "id": "haXfr7bz0hIF",
        "colab_type": "code",
        "cellView": "both",
        "colab": {}
      },
      "source": [
        "#@title Choose interval for r:\n",
        "\n",
        "r_min = 2.85 #@param {type:\"slider\", min:0, max:4, step:0.01}\n",
        "r_max = 4 #@param {type:\"slider\", min:0, max:4, step:0.01}\n",
        "\n",
        "if (r_max < r_min):\n",
        "  rmin = r_max\n",
        "\n",
        "N = 1000\n",
        "Ndisc = 300\n",
        "Nr = 500\n",
        "\n",
        "ts = np.arange(N)\n",
        "rs = np.linspace(r_min,r_max,Nr,endpoint=False)\n",
        "xs = np.zeros((N,Nr))\n",
        "\n",
        "rr = 0\n",
        "for r in rs:\n",
        "\n",
        "  x = 0.8\n",
        "\n",
        "  for t in range(Ndisc) :\n",
        "    x = f(x,r)\n",
        "\n",
        "  for t in ts:\n",
        "    x = f(x,r)\n",
        "    xs[t,rr] = x\n",
        "\n",
        "  rr += 1"
      ],
      "execution_count": 0,
      "outputs": []
    },
    {
      "cell_type": "code",
      "metadata": {
        "id": "ycntdUUycUXe",
        "colab_type": "code",
        "colab": {}
      },
      "source": [
        "plt.scatter(np.outer(np.ones(ts.shape),rs),xs,0.01,color=\"black\");"
      ],
      "execution_count": 0,
      "outputs": []
    }
  ]
}
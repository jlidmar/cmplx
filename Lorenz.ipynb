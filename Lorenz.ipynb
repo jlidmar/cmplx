{
 "cells": [
  {
   "cell_type": "markdown",
   "metadata": {},
   "source": [
    "# Lorenz equation:\n",
    " \n",
    "\\begin{align}\n",
    "    \\frac{dx}{dt} &= \\sigma (y - x) \\\\\n",
    "    \\frac{dy}{dt} &= \\rho x - y - xz \\\\\n",
    "    \\frac{dz}{dt} &= x y - \\beta z\n",
    "\\end{align}\n"
   ]
  },
  {
   "cell_type": "code",
   "execution_count": null,
   "metadata": {},
   "outputs": [],
   "source": [
    "from numpy import *\n",
    "from scipy import integrate\n",
    "from matplotlib import pyplot as plt"
   ]
  },
  {
   "cell_type": "code",
   "execution_count": null,
   "metadata": {},
   "outputs": [],
   "source": [
    "sigma, rho, beta = 10, 28, 8.0/3\n",
    "\n",
    "def Lorenz(t,x):\n",
    "    \"Lorenz system of equations\"\n",
    "#    sigma, rho, beta = u\n",
    "    return [sigma*(x[1]-x[0]), x[0]*(rho-x[2]) - x[1], x[0]*x[1]-beta*x[2]]"
   ]
  },
  {
   "cell_type": "markdown",
   "metadata": {},
   "source": [
    "Next"
   ]
  },
  {
   "cell_type": "code",
   "execution_count": null,
   "metadata": {},
   "outputs": [],
   "source": [
    "tfin = 10000\n",
    "t = [0.0, 100.0];\n",
    "\n",
    "x = array([1, 1, 1])\n",
    "\n",
    "sol = integrate.solve_ivp(Lorenz,t,x,dense_output=True,rtol=0.00001)\n"
   ]
  },
  {
   "cell_type": "code",
   "execution_count": null,
   "metadata": {},
   "outputs": [],
   "source": [
    "ts = sol.t\n",
    "xs = sol.y\n",
    "\n",
    "plt.plot(ts,xs.transpose());\n",
    "plt.figure()\n",
    "plt.plot(xs[0],xs[2])\n",
    "plt.figure()\n",
    "plt.plot(xs[0],xs[1])\n",
    "\n",
    "from mpl_toolkits.mplot3d import Axes3D\n",
    "\n",
    "ax = plt.figure().gca(projection='3d')\n",
    "# plt.plot(xs[0], xs[1], xs[2]);\n",
    "plt.plot(*xs);"
   ]
  },
  {
   "cell_type": "code",
   "execution_count": null,
   "metadata": {},
   "outputs": [],
   "source": [
    "sol\n"
   ]
  },
  {
   "cell_type": "code",
   "execution_count": null,
   "metadata": {},
   "outputs": [],
   "source": []
  }
 ],
 "metadata": {
  "kernelspec": {
   "display_name": "Python 3",
   "language": "python",
   "name": "python3"
  },
  "language_info": {
   "codemirror_mode": {
    "name": "ipython",
    "version": 3
   },
   "file_extension": ".py",
   "mimetype": "text/x-python",
   "name": "python",
   "nbconvert_exporter": "python",
   "pygments_lexer": "ipython3",
   "version": "3.7.4"
  }
 },
 "nbformat": 4,
 "nbformat_minor": 4
}

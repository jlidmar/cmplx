{
  "nbformat": 4,
  "nbformat_minor": 0,
  "metadata": {
    "kernelspec": {
      "display_name": "Python 3",
      "language": "python",
      "name": "python3"
    },
    "language_info": {
      "codemirror_mode": {
        "name": "ipython",
        "version": 3
      },
      "file_extension": ".py",
      "mimetype": "text/x-python",
      "name": "python",
      "nbconvert_exporter": "python",
      "pygments_lexer": "ipython3",
      "version": "3.7.4"
    },
    "colab": {
      "name": "Lorenz.ipynb",
      "provenance": [],
      "include_colab_link": true
    }
  },
  "cells": [
    {
      "cell_type": "markdown",
      "metadata": {
        "id": "view-in-github",
        "colab_type": "text"
      },
      "source": [
        "<a href=\"https://colab.research.google.com/github/jlidmar/cmplx/blob/master/Lorenz.ipynb\" target=\"_parent\"><img src=\"https://colab.research.google.com/assets/colab-badge.svg\" alt=\"Open In Colab\"/></a>"
      ]
    },
    {
      "cell_type": "markdown",
      "metadata": {
        "id": "Qdi5aprC-ICi"
      },
      "source": [
        "# Lorenz equation:\n",
        " \n",
        "\\begin{align}\n",
        "    \\frac{dx}{dt} &= \\sigma (y - x) \\\\\n",
        "    \\frac{dy}{dt} &= \\rho x - y - xz \\\\\n",
        "    \\frac{dz}{dt} &= x y - \\beta z\n",
        "\\end{align}\n"
      ]
    },
    {
      "cell_type": "code",
      "metadata": {
        "id": "PkALHoiJ-ICp"
      },
      "source": [
        "from numpy import *\n",
        "from scipy import integrate\n",
        "from matplotlib import pyplot as plt\n",
        "import plotly.graph_objects as go"
      ],
      "execution_count": null,
      "outputs": []
    },
    {
      "cell_type": "code",
      "metadata": {
        "id": "VC87x-KC-ICp"
      },
      "source": [
        "sigma, rho, beta = 10, 28, 8.0/3\n",
        "\n",
        "def Lorenz(t,x):\n",
        "    \"Lorenz system of equations\"\n",
        "#    sigma, rho, beta = u\n",
        "    return [sigma*(x[1]-x[0]), x[0]*(rho-x[2]) - x[1], x[0]*x[1]-beta*x[2]]"
      ],
      "execution_count": null,
      "outputs": []
    },
    {
      "cell_type": "markdown",
      "metadata": {
        "id": "FTtA3IYk-ICq"
      },
      "source": [
        "Next"
      ]
    },
    {
      "cell_type": "code",
      "metadata": {
        "id": "unTRgXHH-ICq"
      },
      "source": [
        "t = [0.0, 100.0];\n",
        "\n",
        "x = array([1, 1, 1])\n",
        "\n",
        "sol = integrate.solve_ivp(Lorenz,t,x,dense_output=True,rtol=0.00001)\n"
      ],
      "execution_count": null,
      "outputs": []
    },
    {
      "cell_type": "code",
      "metadata": {
        "id": "q2OoP80M-ICr"
      },
      "source": [
        "sol\n"
      ],
      "execution_count": null,
      "outputs": []
    },
    {
      "cell_type": "code",
      "metadata": {
        "id": "OQ6cNKAR-ICq"
      },
      "source": [
        "ts = sol.t\n",
        "xs = sol.y\n",
        "\n",
        "plt.plot(ts,xs.transpose());\n",
        "plt.figure()\n",
        "plt.plot(xs[0],xs[2])\n",
        "plt.figure()\n",
        "plt.plot(xs[0],xs[1])\n",
        "\n",
        "from mpl_toolkits.mplot3d import Axes3D\n",
        "\n",
        "ax = plt.figure().gca(projection='3d')\n",
        "# plt.plot(xs[0], xs[1], xs[2]);\n",
        "plt.plot(*xs);"
      ],
      "execution_count": null,
      "outputs": []
    },
    {
      "cell_type": "code",
      "metadata": {
        "id": "hT7Kbak2-ICr"
      },
      "source": [
        "fig = go.Figure(data = [ go.Scatter3d( x = xs[0], y = xs[1], z = xs[2], opacity=0.8, mode=\"lines\") ],\n",
        "                layout = { 'scene.aspectmode': 'cube' })\n",
        "\n",
        "fig.show()"
      ],
      "execution_count": null,
      "outputs": []
    }
  ]
}
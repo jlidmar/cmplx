{
  "nbformat": 4,
  "nbformat_minor": 0,
  "metadata": {
    "kernelspec": {
      "display_name": "Python 3",
      "language": "python",
      "name": "python3"
    },
    "language_info": {
      "codemirror_mode": {
        "name": "ipython",
        "version": 3
      },
      "file_extension": ".py",
      "mimetype": "text/x-python",
      "name": "python",
      "nbconvert_exporter": "python",
      "pygments_lexer": "ipython3",
      "version": "3.7.4"
    },
    "colab": {
      "name": "PhasePortrait.ipynb",
      "provenance": [],
      "include_colab_link": true
    }
  },
  "cells": [
    {
      "cell_type": "markdown",
      "metadata": {
        "id": "view-in-github",
        "colab_type": "text"
      },
      "source": [
        "<a href=\"https://colab.research.google.com/github/jlidmar/cmplx/blob/master/PhasePortrait.ipynb\" target=\"_parent\"><img src=\"https://colab.research.google.com/assets/colab-badge.svg\" alt=\"Open In Colab\"/></a>"
      ]
    },
    {
      "cell_type": "markdown",
      "metadata": {
        "id": "EgxFs4fI_v1p"
      },
      "source": [
        "## Phase portrait:\n",
        " \n",
        "\\begin{align}\n",
        "    \\frac{dx}{dt} &= y - x^2  +x \\\\\n",
        "    \\frac{dy}{dt} &= x - y \n",
        "\\end{align}\n"
      ]
    },
    {
      "cell_type": "code",
      "metadata": {
        "id": "shQLlv_k_v1u"
      },
      "source": [
        "from numpy import *\n",
        "from scipy import integrate\n",
        "from matplotlib import pyplot as plt"
      ],
      "execution_count": null,
      "outputs": []
    },
    {
      "cell_type": "code",
      "metadata": {
        "id": "i9JdhPaN_v10"
      },
      "source": [
        "def ds(t,x):\n",
        "    \"A dynamical system\"\n",
        "    return [x[1] - x[0]*x[0] + x[0], x[0] - x[1]]"
      ],
      "execution_count": null,
      "outputs": []
    },
    {
      "cell_type": "code",
      "metadata": {
        "id": "9bqhdToFbplH"
      },
      "source": [
        "x = arange(-2,5,0.1)\n",
        "y = arange(-2,5,0.1)\n",
        "x, y = meshgrid(x,y)\n",
        "V = ds(0,[x,y])\n",
        "u, v = V"
      ],
      "execution_count": null,
      "outputs": []
    },
    {
      "cell_type": "code",
      "metadata": {
        "id": "T-IQVbrrcv8E"
      },
      "source": [
        "plt.quiver(x,y, u,v, pivot='middle',);"
      ],
      "execution_count": null,
      "outputs": []
    },
    {
      "cell_type": "code",
      "metadata": {
        "id": "u-dVE87O_v15"
      },
      "source": [
        "plt.streamplot(x,y, u,v);\n",
        "plt.plot(0,0,'or');\n",
        "plt.plot(2,2,'ob');"
      ],
      "execution_count": null,
      "outputs": []
    },
    {
      "cell_type": "code",
      "metadata": {
        "id": "hc7WijDq_v1-"
      },
      "source": [
        "sol=integrate.solve_ivp(ds,[0,10],[0.001,0.001])"
      ],
      "execution_count": null,
      "outputs": []
    },
    {
      "cell_type": "code",
      "metadata": {
        "id": "fu1PKm3U_v2C"
      },
      "source": [
        "plt.plot(sol.y[0],sol.y[1]);"
      ],
      "execution_count": null,
      "outputs": []
    },
    {
      "cell_type": "code",
      "metadata": {
        "id": "LenDccHP_v2F"
      },
      "source": [
        ""
      ],
      "execution_count": null,
      "outputs": []
    }
  ]
}
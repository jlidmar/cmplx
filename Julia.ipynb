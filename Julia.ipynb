{
  "nbformat": 4,
  "nbformat_minor": 0,
  "metadata": {
    "language_info": {
      "name": "python",
      "codemirror_mode": {
        "name": "ipython",
        "version": 3
      },
      "version": "3.7.6-final"
    },
    "orig_nbformat": 2,
    "file_extension": ".py",
    "mimetype": "text/x-python",
    "name": "python",
    "npconvert_exporter": "python",
    "pygments_lexer": "ipython3",
    "version": 3,
    "kernelspec": {
      "name": "python3",
      "display_name": "Python 3"
    },
    "colab": {
      "name": "Julia.ipynb",
      "provenance": [],
      "collapsed_sections": [],
      "include_colab_link": true
    }
  },
  "cells": [
    {
      "cell_type": "markdown",
      "metadata": {
        "id": "view-in-github",
        "colab_type": "text"
      },
      "source": [
        "<a href=\"https://colab.research.google.com/github/jlidmar/cmplx/blob/master/Julia.ipynb\" target=\"_parent\"><img src=\"https://colab.research.google.com/assets/colab-badge.svg\" alt=\"Open In Colab\"/></a>"
      ]
    },
    {
      "cell_type": "markdown",
      "metadata": {
        "id": "yKVb1fGXuHZA",
        "colab_type": "text"
      },
      "source": [
        "## Julia set\n",
        "\n",
        "for the complex map\n",
        "$$\n",
        "z_{n+1} = z_n^2 + c\n",
        "$$\n",
        "\n",
        "$$\n",
        "J = \\partial K\n",
        "$$\n",
        "where\n",
        "$$\n",
        "K = \\left\\{ z_0 \\big| |z_n| < \\infty \\right\\}\n",
        "$$"
      ]
    },
    {
      "cell_type": "code",
      "metadata": {
        "id": "IYwSs74huHZB",
        "colab_type": "code",
        "colab": {}
      },
      "source": [
        "\n",
        "import numpy as np\n",
        "from matplotlib import pyplot as plt"
      ],
      "execution_count": 0,
      "outputs": []
    },
    {
      "cell_type": "code",
      "metadata": {
        "id": "jLZrKonduHZF",
        "colab_type": "code",
        "colab": {}
      },
      "source": [
        "def f(z,c):\n",
        "  \"The map\"\n",
        "  return z*z + c"
      ],
      "execution_count": 0,
      "outputs": []
    },
    {
      "cell_type": "markdown",
      "metadata": {
        "id": "BCamz4y-bBJa",
        "colab_type": "text"
      },
      "source": [
        "Julia set"
      ]
    },
    {
      "cell_type": "code",
      "metadata": {
        "id": "B1_eainBuHZI",
        "colab_type": "code",
        "cellView": "both",
        "colab": {
          "base_uri": "https://localhost:8080/",
          "height": 122
        },
        "outputId": "171afd2d-6515-490e-c4d4-dd2b23dc9ed7"
      },
      "source": [
        "#@title Enter c:\n",
        "c = 1j #@param [\"0.0\", \"1j\", \"-0.75\", \"(1-1j)/2.5\"] {type:\"raw\", allow-input: true}\n",
        "\n",
        "\n",
        "# Number of starting points\n",
        "\n",
        "Nx = 1000\n",
        "Ny = 2000\n",
        "\n",
        "maxit = 20 # Number of iterations\n",
        "scale = 5\n",
        "\n",
        "z = np.zeros([Nx,Ny],dtype=complex)\n",
        "\n",
        "for i in range(Nx):\n",
        "  for j in range(Ny):\n",
        "    z[i,j] = scale*complex((i-Nx/2)/Nx,(j-Ny/2)/Ny)\n",
        "\n",
        "# Iterate the map maxit times\n",
        "for n in range(maxit):\n",
        "  z = f(z,c)\n",
        "\n",
        "J = np.nonzero(abs(z) < 2)\n",
        "\n",
        "x, y = scale*(J[0]-Nx/2)/Nx, scale*(J[1]-Ny/2)/Ny"
      ],
      "execution_count": 137,
      "outputs": [
        {
          "output_type": "stream",
          "text": [
            "/usr/local/lib/python3.6/dist-packages/ipykernel_launcher.py:3: RuntimeWarning: overflow encountered in multiply\n",
            "  This is separate from the ipykernel package so we can avoid doing imports until\n",
            "/usr/local/lib/python3.6/dist-packages/ipykernel_launcher.py:3: RuntimeWarning: invalid value encountered in multiply\n",
            "  This is separate from the ipykernel package so we can avoid doing imports until\n",
            "/usr/local/lib/python3.6/dist-packages/ipykernel_launcher.py:22: RuntimeWarning: invalid value encountered in less\n"
          ],
          "name": "stderr"
        }
      ]
    },
    {
      "cell_type": "code",
      "metadata": {
        "id": "5njepZJNSrOP",
        "colab_type": "code",
        "colab": {
          "base_uri": "https://localhost:8080/",
          "height": 281
        },
        "outputId": "f26a8337-d58d-4c2a-e4b2-6644fa1fc406"
      },
      "source": [
        "plt.scatter(x,y,0.05);\n",
        "plt.axis('scaled');\n",
        "plt.title('c = ' + str(c));"
      ],
      "execution_count": 138,
      "outputs": [
        {
          "output_type": "display_data",
          "data": {
            "image/png": "[encoded data removed]",
            "text/plain": [
              "<Figure size 432x288 with 1 Axes>"
            ]
          },
          "metadata": {
            "tags": [],
            "needs_background": "light"
          }
        }
      ]
    },
    {
      "cell_type": "markdown",
      "metadata": {
        "id": "z5ZtBdsecXJ4",
        "colab_type": "text"
      },
      "source": [
        "## Mandelbrot set\n",
        "\n",
        "$$\n",
        "M = \\left\\{ c | f^n(0) < \\infty \\right\\}\n",
        "$$"
      ]
    },
    {
      "cell_type": "code",
      "metadata": {
        "id": "g9yxtDJlcU6w",
        "colab_type": "code",
        "colab": {
          "base_uri": "https://localhost:8080/",
          "height": 139
        },
        "outputId": "eacc0365-b5ca-4c24-fa87-b14e928b5e7b"
      },
      "source": [
        "# Number of starting points\n",
        "\n",
        "Nx = 1000\n",
        "Ny = 2000\n",
        "\n",
        "maxit = 20 # Number of iterations\n",
        "scale = 5\n",
        "\n",
        "z = 0 + 0j\n",
        "\n",
        "c = np.zeros([Nx,Ny],dtype=complex)\n",
        "\n",
        "for i in range(Nx):\n",
        "  for j in range(Ny):\n",
        "    c[i,j] = scale*complex((i-Nx/2)/Nx,(j-Ny/2)/Ny)\n",
        "\n",
        "# Iterate the map maxit times\n",
        "for n in range(maxit):\n",
        "  z = f(z,c)\n",
        "\n",
        "M = np.nonzero(abs(z) < 2)\n",
        "\n",
        "x, y = scale*(M[0]-Nx/2)/Nx, scale*(M[1]-Ny/2)/Ny"
      ],
      "execution_count": 135,
      "outputs": [
        {
          "output_type": "stream",
          "text": [
            "/usr/local/lib/python3.6/dist-packages/ipykernel_launcher.py:3: RuntimeWarning: overflow encountered in multiply\n",
            "  This is separate from the ipykernel package so we can avoid doing imports until\n",
            "/usr/local/lib/python3.6/dist-packages/ipykernel_launcher.py:3: RuntimeWarning: invalid value encountered in multiply\n",
            "  This is separate from the ipykernel package so we can avoid doing imports until\n",
            "/usr/local/lib/python3.6/dist-packages/ipykernel_launcher.py:20: RuntimeWarning: overflow encountered in absolute\n",
            "/usr/local/lib/python3.6/dist-packages/ipykernel_launcher.py:20: RuntimeWarning: invalid value encountered in less\n"
          ],
          "name": "stderr"
        }
      ]
    },
    {
      "cell_type": "code",
      "metadata": {
        "colab_type": "code",
        "outputId": "24379756-6cdd-438e-f8ee-afc222d10acf",
        "id": "ZbdRXMR0dHSa",
        "colab": {
          "base_uri": "https://localhost:8080/",
          "height": 281
        }
      },
      "source": [
        "plt.scatter(x,y,0.05);\n",
        "plt.axis('scaled');\n",
        "plt.title('M');"
      ],
      "execution_count": 136,
      "outputs": [
        {
          "output_type": "display_data",
          "data": {
            "image/png": "[encoded data removed]",
            "text/plain": [
              "<Figure size 432x288 with 1 Axes>"
            ]
          },
          "metadata": {
            "tags": [],
            "needs_background": "light"
          }
        }
      ]
    }
  ]
}
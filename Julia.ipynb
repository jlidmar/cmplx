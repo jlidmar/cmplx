{
  "nbformat": 4,
  "nbformat_minor": 0,
  "metadata": {
    "language_info": {
      "name": "python",
      "codemirror_mode": {
        "name": "ipython",
        "version": 3
      },
      "version": "3.7.6-final"
    },
    "orig_nbformat": 2,
    "file_extension": ".py",
    "mimetype": "text/x-python",
    "name": "python",
    "npconvert_exporter": "python",
    "pygments_lexer": "ipython3",
    "version": 3,
    "kernelspec": {
      "name": "python3",
      "display_name": "Python 3"
    },
    "colab": {
      "name": "Julia.ipynb",
      "provenance": [],
      "collapsed_sections": [],
      "include_colab_link": true
    }
  },
  "cells": [
    {
      "cell_type": "markdown",
      "metadata": {
        "id": "view-in-github",
        "colab_type": "text"
      },
      "source": [
        "<a href=\"https://colab.research.google.com/github/jlidmar/cmplx/blob/master/Julia.ipynb\" target=\"_parent\"><img src=\"https://colab.research.google.com/assets/colab-badge.svg\" alt=\"Open In Colab\"/></a>"
      ]
    },
    {
      "cell_type": "markdown",
      "metadata": {
        "id": "yKVb1fGXuHZA"
      },
      "source": [
        "## Julia set\n",
        "\n",
        "for the complex map\n",
        "$$\n",
        "z_{n+1} = z_n^2 + c\n",
        "$$\n",
        "\n",
        "$$\n",
        "J = \\partial K\n",
        "$$\n",
        "where\n",
        "$$\n",
        "K = \\left\\{ z_0 \\big| |z_n| < \\infty \\right\\}\n",
        "$$"
      ]
    },
    {
      "cell_type": "code",
      "metadata": {
        "id": "IYwSs74huHZB"
      },
      "source": [
        "\n",
        "import numpy as np\n",
        "from matplotlib import pyplot as plt"
      ],
      "execution_count": null,
      "outputs": []
    },
    {
      "cell_type": "code",
      "metadata": {
        "id": "jLZrKonduHZF"
      },
      "source": [
        "def f(z,c):\n",
        "  \"The map\"\n",
        "  return z*z + c"
      ],
      "execution_count": null,
      "outputs": []
    },
    {
      "cell_type": "markdown",
      "metadata": {
        "id": "BCamz4y-bBJa"
      },
      "source": [
        "Julia set"
      ]
    },
    {
      "cell_type": "code",
      "metadata": {
        "id": "B1_eainBuHZI"
      },
      "source": [
        "#@title Enter c:\n",
        "c = 1j #@param [\"0.0\", \"1j\", \"-0.75\", \"(1-1j)/2.5\"] {type:\"raw\", allow-input: true}\n",
        "\n",
        "\n",
        "# Number of starting points\n",
        "\n",
        "Nx = 1000\n",
        "Ny = 2000\n",
        "\n",
        "maxit = 20 # Number of iterations\n",
        "scale = 5\n",
        "\n",
        "z = np.zeros([Nx,Ny],dtype=complex)\n",
        "\n",
        "for i in range(Nx):\n",
        "  for j in range(Ny):\n",
        "    z[i,j] = scale*complex((i-Nx/2)/Nx,(j-Ny/2)/Ny)\n",
        "\n",
        "# Iterate the map maxit times\n",
        "for n in range(maxit):\n",
        "  z = f(z,c)\n",
        "\n",
        "J = np.nonzero(abs(z) < 2)\n",
        "\n",
        "x, y = scale*(J[0]-Nx/2)/Nx, scale*(J[1]-Ny/2)/Ny"
      ],
      "execution_count": null,
      "outputs": []
    },
    {
      "cell_type": "code",
      "metadata": {
        "id": "5njepZJNSrOP"
      },
      "source": [
        "# plt.scatter(x,y,0.05);\n",
        "plt.scatter(x,y,0.05,abs(z[abs(z) < 2]));\n",
        "plt.axis('scaled');\n",
        "plt.title('c = ' + str(c));"
      ],
      "execution_count": null,
      "outputs": []
    },
    {
      "cell_type": "markdown",
      "metadata": {
        "id": "z5ZtBdsecXJ4"
      },
      "source": [
        "## Mandelbrot set\n",
        "\n",
        "$$\n",
        "M = \\left\\{ c | f^n(0) < \\infty \\right\\}\n",
        "$$"
      ]
    },
    {
      "cell_type": "code",
      "metadata": {
        "id": "g9yxtDJlcU6w"
      },
      "source": [
        "# Number of starting points\n",
        "\n",
        "Nx = 1000\n",
        "Ny = 2000\n",
        "\n",
        "maxit = 20 # Number of iterations\n",
        "scale = 5\n",
        "\n",
        "z = 0 + 0j\n",
        "\n",
        "c = np.zeros([Nx,Ny],dtype=complex)\n",
        "\n",
        "for i in range(Nx):\n",
        "  for j in range(Ny):\n",
        "    c[i,j] = scale*complex((i-Nx/2)/Nx,(j-Ny/2)/Ny)\n",
        "\n",
        "# Iterate the map maxit times\n",
        "for n in range(maxit):\n",
        "  z = f(z,c)\n",
        "\n",
        "M = np.nonzero(abs(z) < 2)\n",
        "\n",
        "x, y = scale*(M[0]-Nx/2)/Nx, scale*(M[1]-Ny/2)/Ny"
      ],
      "execution_count": null,
      "outputs": []
    },
    {
      "cell_type": "code",
      "metadata": {
        "id": "ZbdRXMR0dHSa"
      },
      "source": [
        "# plt.scatter(x,y,0.05);\n",
        "plt.scatter(x,y,0.05,abs(z[abs(z) < 2]));\n",
        "plt.axis('scaled');\n",
        "plt.title('M');"
      ],
      "execution_count": null,
      "outputs": []
    }
  ]
}